{
 "cells": [
  {
   "cell_type": "markdown",
   "id": "7af1f27e-3283-4149-9537-1d0e105d5caa",
   "metadata": {},
   "source": [
    "### 1. Write a program that accepts a string from user. Your program should count and display number of vowels in that string. "
   ]
  },
  {
   "cell_type": "code",
   "execution_count": 36,
   "id": "e851612a-1915-4e67-ad62-45cc65e270cb",
   "metadata": {},
   "outputs": [
    {
     "name": "stdin",
     "output_type": "stream",
     "text": [
      "Enter any string taaaEEIIi\n"
     ]
    },
    {
     "name": "stdout",
     "output_type": "stream",
     "text": [
      "Count of vowels: 3\n"
     ]
    }
   ],
   "source": [
    "user_input = input(\"Enter any string\").lower()\n",
    "count = 0\n",
    "vowels_list = ['a','e','i','o','u']\n",
    "for i in vowels_list:\n",
    "    if user_input.find(i) != -1:\n",
    "       count +=1\n",
    "            \n",
    "print('Count of vowels:',count)"
   ]
  },
  {
   "cell_type": "markdown",
   "id": "e64265c1-d18c-4d1d-9908-0773dd9d6ad3",
   "metadata": {},
   "source": [
    "### 2. Write a program that reads a string from keyboard and display:\n",
    "### * The number of uppercase letters in the string\n",
    "### * The number of lowercase letters in the string\n",
    "### * The number of digits in the string\n",
    "### * The number of whitespace characters in the string"
   ]
  },
  {
   "cell_type": "code",
   "execution_count": 165,
   "id": "ae5d2e4c-f836-41bb-8fb9-ac23553b4fad",
   "metadata": {},
   "outputs": [
    {
     "name": "stdin",
     "output_type": "stream",
     "text": [
      "Enter any string Hello World 123\n"
     ]
    },
    {
     "name": "stdout",
     "output_type": "stream",
     "text": [
      "\n",
      "Upper case: 2\n",
      "Lower Case: 8\n",
      "Digits: 3\n",
      "Spaces: 2\n",
      "\n"
     ]
    }
   ],
   "source": [
    "user_string = input(\"Enter any string\")\n",
    "counts_dict = {\n",
    "    \"upperCase\":0,\n",
    "    \"lowerCase\":0,\n",
    "    \"digits\":0,\n",
    "    \"whiteSpaces\":0\n",
    "}\n",
    "upper_case = 0\n",
    "lower_case = 0\n",
    "digits = 0\n",
    "white_spaces = 0\n",
    "\n",
    "for i in user_string:\n",
    "    ascii_code = ord(i)\n",
    "    if(48 <= ascii_code <= 57):\n",
    "        digits += 1\n",
    "    elif(97 <= ascii_code <= 122):\n",
    "         lower_case +=1\n",
    "    elif(65 <= ascii_code <= 90):\n",
    "        upper_case +=1\n",
    "    elif ascii_code == 32:\n",
    "        white_spaces +=1\n",
    "\n",
    "print(f\"\"\"\n",
    "Upper case: {upper_case}\n",
    "Lower Case: {lower_case}\n",
    "Digits: {digits}\n",
    "Spaces: {white_spaces}\n",
    "\"\"\")"
   ]
  },
  {
   "cell_type": "markdown",
   "id": "4f50a3ce-82b3-47df-a3f9-693e0b4d0036",
   "metadata": {},
   "source": [
    "### 3. Write a Python program that accepts a string from user. Your program should create and display a new string where the first and last characters have been exchanged."
   ]
  },
  {
   "cell_type": "code",
   "execution_count": 60,
   "id": "8a091164-d700-49a9-b3ff-9a0057879ce6",
   "metadata": {},
   "outputs": [
    {
     "name": "stdin",
     "output_type": "stream",
     "text": [
      "Enter any string Python\n"
     ]
    },
    {
     "name": "stdout",
     "output_type": "stream",
     "text": [
      "Replaced String: nythoP\n"
     ]
    }
   ],
   "source": [
    "user_input = input(\"Enter any string\")\n",
    "first_char = user_input[:1]\n",
    "last_char = user_input[-1]\n",
    "res = last_char + user_input[1:-1] + first_char\n",
    "print(\"Replaced String:\", res)"
   ]
  },
  {
   "cell_type": "markdown",
   "id": "75b1a3c5-b673-4e7f-8cb6-4c3a27ca25b1",
   "metadata": {},
   "source": [
    "### 4. Write a Python program that accepts a string from user. Your program should create a new string in reverse of first string and display it. "
   ]
  },
  {
   "cell_type": "code",
   "execution_count": 61,
   "id": "83333b1c-c040-4e87-b160-5db634cda455",
   "metadata": {},
   "outputs": [
    {
     "name": "stdin",
     "output_type": "stream",
     "text": [
      "Enter any string taha\n"
     ]
    },
    {
     "name": "stdout",
     "output_type": "stream",
     "text": [
      "ahat\n"
     ]
    }
   ],
   "source": [
    "user_input = input('Enter any string')\n",
    "print(user_input[::-1])"
   ]
  },
  {
   "cell_type": "markdown",
   "id": "7ea0bcbd-39a4-43ac-8cda-843581a6319d",
   "metadata": {},
   "source": [
    "### 5. Write a Python program that accepts a string from user. Your program should create a new string by shifting one position to left. "
   ]
  },
  {
   "cell_type": "code",
   "execution_count": 63,
   "id": "6ffdfc04-919e-4529-879f-aa8296c92545",
   "metadata": {},
   "outputs": [
    {
     "name": "stdin",
     "output_type": "stream",
     "text": [
      "Enter any string taha\n"
     ]
    },
    {
     "name": "stdout",
     "output_type": "stream",
     "text": [
      "ahat\n"
     ]
    }
   ],
   "source": [
    "user_input = input('Enter any string')\n",
    "if len(user_input) > 0:\n",
    "    res = user_input[1:] + user_input[0]\n",
    "    print(res)"
   ]
  },
  {
   "cell_type": "markdown",
   "id": "9dd526cb-67cc-4b2b-89e0-4dd13a355c85",
   "metadata": {},
   "source": [
    "### 6. Write a program that asks the user to input his name and print its initials. Assuming that the user always types first name, middle name and last name and does not include any unnecessary spaces. "
   ]
  },
  {
   "cell_type": "code",
   "execution_count": 82,
   "id": "b523dc17-52cb-4a99-89cc-e6ac38027d5f",
   "metadata": {},
   "outputs": [
    {
     "name": "stdin",
     "output_type": "stream",
     "text": [
      "Enter any string: Muhammad Taha\n"
     ]
    },
    {
     "name": "stdout",
     "output_type": "stream",
     "text": [
      "Initials: MT\n"
     ]
    }
   ],
   "source": [
    "user_input = input('Enter any string:')\n",
    "initials = user_input[0]\n",
    "index = 0;\n",
    "for c in user_input:\n",
    "    index+=1\n",
    "    if(c == ' '):\n",
    "        initials += user_input[index]\n",
    "print(\"Initials:\",initials)"
   ]
  },
  {
   "cell_type": "markdown",
   "id": "11074172-0668-4ebd-8faf-9cadf9b9ea75",
   "metadata": {},
   "source": [
    "### 7. A palindrome is a string that reads the same backward as forward. For example, the words dad, madam and radar are all palindromes. Write a programs that determines whether the string is a palindrome. "
   ]
  },
  {
   "cell_type": "code",
   "execution_count": 105,
   "id": "bee2e39b-bd2d-40b7-b5ef-faece80186cf",
   "metadata": {},
   "outputs": [
    {
     "name": "stdin",
     "output_type": "stream",
     "text": [
      "Enter any string: radar\n"
     ]
    },
    {
     "name": "stdout",
     "output_type": "stream",
     "text": [
      "Plaindrome\n"
     ]
    }
   ],
   "source": [
    "user_input = input('Enter any string:')\n",
    "palindrome = ''\n",
    "for i in range(len(user_input)-1,-1,-1):\n",
    "    palindrome += user_input[i]\n",
    "print(f'Plaindrome' if user_input == palindrome else f'{user_input} is not a plaindrome string')"
   ]
  },
  {
   "cell_type": "markdown",
   "id": "eb54a5a8-0a30-4006-84e5-e1d7520b17eb",
   "metadata": {},
   "source": [
    "### 8. Write a program that display following output:\n",
    "#### SHIFT\n",
    "\n",
    "#### HIFTS\n",
    "\n",
    "#### IFTSH\n",
    "\n",
    "#### FTSHI\n",
    "\n",
    "#### TSHIF\n",
    "\n",
    "#### SHIFT "
   ]
  },
  {
   "cell_type": "code",
   "execution_count": 112,
   "id": "27a612f9-df7b-4a4f-b725-939eb58b7f2c",
   "metadata": {},
   "outputs": [
    {
     "name": "stdin",
     "output_type": "stream",
     "text": [
      "Enter any string: taha\n"
     ]
    },
    {
     "name": "stdout",
     "output_type": "stream",
     "text": [
      "taha\n",
      "ahat\n",
      "hata\n",
      "atah\n",
      "taha\n"
     ]
    }
   ],
   "source": [
    "user_input = input('Enter any string:')\n",
    "for i in range(len(user_input)):\n",
    "    print(user_input)\n",
    "    user_input = user_input[1:] + user_input[0]\n",
    "print(user_input)"
   ]
  },
  {
   "cell_type": "markdown",
   "id": "9ae91305-2f09-4fa8-8702-7f3daba64130",
   "metadata": {},
   "source": [
    "### 9. Write a program in python that accepts a string to setup a passwords. Your entered password must meet the following requirements: \n",
    "#### The password must be at least eight characters long.\n",
    "#### It must contain at least one uppercase letter.\n",
    "#### It must contain at least one lowercase letter.\n",
    "#### It must contain at least one numeric digit.\n",
    "#### Your program should should perform this validation. "
   ]
  },
  {
   "cell_type": "code",
   "execution_count": 145,
   "id": "6b9ed324-47c3-4d9e-a7d1-1ffe07016fa4",
   "metadata": {},
   "outputs": [
    {
     "name": "stdin",
     "output_type": "stream",
     "text": [
      "Enter any string: pass@1234\n"
     ]
    },
    {
     "name": "stdout",
     "output_type": "stream",
     "text": [
      "Your password does not contains upper case\n"
     ]
    }
   ],
   "source": [
    "user_input = input('Enter any string:')\n",
    "is_upper_case = False\n",
    "is_lower_case = False\n",
    "is_number = False\n",
    "if(len(user_input) < 8):\n",
    "    print('Please enter a valid password (at least 8 characters)')\n",
    "else:\n",
    "    for i in user_input:\n",
    "        if(i.isupper()):\n",
    "            is_upper_case = True\n",
    "        elif (i.islower()):\n",
    "            is_lower_case = True\n",
    "        elif (i.isnumeric()):\n",
    "            is_number = True\n",
    "    if(not is_upper_case):\n",
    "        print(\"Your password does not contains upper case\")\n",
    "    elif(not is_lower_case):\n",
    "        print(\"Your password does not contains lower case\")\n",
    "    elif(not is_number):\n",
    "        print(\"Your password does not contains number\")"
   ]
  }
 ],
 "metadata": {
  "kernelspec": {
   "display_name": "Python [conda env:base] *",
   "language": "python",
   "name": "conda-base-py"
  },
  "language_info": {
   "codemirror_mode": {
    "name": "ipython",
    "version": 3
   },
   "file_extension": ".py",
   "mimetype": "text/x-python",
   "name": "python",
   "nbconvert_exporter": "python",
   "pygments_lexer": "ipython3",
   "version": "3.13.5"
  }
 },
 "nbformat": 4,
 "nbformat_minor": 5
}
