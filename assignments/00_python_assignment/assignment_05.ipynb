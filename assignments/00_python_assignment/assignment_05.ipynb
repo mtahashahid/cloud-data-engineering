{
 "cells": [
  {
   "cell_type": "markdown",
   "id": "ecbfc97c-c223-4c7b-943d-6056e2e8f40c",
   "metadata": {},
   "source": [
    "## Looping Structures"
   ]
  },
  {
   "cell_type": "markdown",
   "id": "2694e07f-8611-4a15-8f67-54c247fc0ca0",
   "metadata": {},
   "source": [
    "### 1. Write a Python program to print the numbers from 1 to 10 using a for loop."
   ]
  },
  {
   "cell_type": "code",
   "execution_count": 115,
   "id": "a59d8213-63b1-4482-a8f0-a965c5a572ec",
   "metadata": {},
   "outputs": [
    {
     "name": "stdout",
     "output_type": "stream",
     "text": [
      "Numbers 1\n",
      "Numbers 2\n",
      "Numbers 3\n",
      "Numbers 4\n",
      "Numbers 5\n",
      "Numbers 6\n",
      "Numbers 7\n",
      "Numbers 8\n",
      "Numbers 9\n",
      "Numbers 10\n"
     ]
    }
   ],
   "source": [
    "for i in range(1,11):\n",
    "    print(\"Numbers\",i)"
   ]
  },
  {
   "cell_type": "markdown",
   "id": "325f216f-d08a-49bc-b155-50df2628b09e",
   "metadata": {},
   "source": [
    "### 2. Write a Python program to print the numbers from 20 to 1 using a while loop."
   ]
  },
  {
   "cell_type": "code",
   "execution_count": 116,
   "id": "e50a2037-9287-42e4-a0d3-a93ecebaf5a7",
   "metadata": {},
   "outputs": [
    {
     "name": "stdout",
     "output_type": "stream",
     "text": [
      "Number: 20\n",
      "Number: 19\n",
      "Number: 18\n",
      "Number: 17\n",
      "Number: 16\n",
      "Number: 15\n",
      "Number: 14\n",
      "Number: 13\n",
      "Number: 12\n",
      "Number: 11\n",
      "Number: 10\n",
      "Number: 9\n",
      "Number: 8\n",
      "Number: 7\n",
      "Number: 6\n",
      "Number: 5\n",
      "Number: 4\n",
      "Number: 3\n",
      "Number: 2\n",
      "Number: 1\n"
     ]
    }
   ],
   "source": [
    "i = 20;\n",
    "while (i > 0):\n",
    "    print(\"Number:\",i)\n",
    "    i-=1"
   ]
  },
  {
   "cell_type": "markdown",
   "id": "8f700e6b-de64-401e-8ffc-0b2d4e544623",
   "metadata": {},
   "source": [
    "### 3. Write a program to print even numbers from 1 to 10."
   ]
  },
  {
   "cell_type": "code",
   "execution_count": 117,
   "id": "9b4869c6-4e63-4225-9961-b79f6d85e8c4",
   "metadata": {},
   "outputs": [
    {
     "name": "stdout",
     "output_type": "stream",
     "text": [
      "2\n",
      "4\n",
      "6\n",
      "8\n",
      "10\n"
     ]
    }
   ],
   "source": [
    "for i in range(1,11):\n",
    "    if i%2 == 0:\n",
    "        print(i)"
   ]
  },
  {
   "cell_type": "markdown",
   "id": "4a5ed8e4-72bb-428e-82fd-7d342b43df90",
   "metadata": {},
   "source": [
    "### 4. Write a program that prompts the user to enter a number n and prints all the numbers from 1 to n."
   ]
  },
  {
   "cell_type": "code",
   "execution_count": 118,
   "id": "897a5795-90df-43cf-b57c-281b40c90bcf",
   "metadata": {},
   "outputs": [
    {
     "name": "stdin",
     "output_type": "stream",
     "text": [
      "Enter any number:  9\n"
     ]
    },
    {
     "name": "stdout",
     "output_type": "stream",
     "text": [
      "Number 1\n",
      "Number 2\n",
      "Number 3\n",
      "Number 4\n",
      "Number 5\n",
      "Number 6\n",
      "Number 7\n",
      "Number 8\n",
      "Number 9\n"
     ]
    }
   ],
   "source": [
    "user_input = int(input(\"Enter any number: \"))\n",
    "for i in range(1,user_input+1):\n",
    "    print(\"Number\",i)"
   ]
  },
  {
   "cell_type": "markdown",
   "id": "5431d1d9-ab77-44b4-b971-f08c9c94bf96",
   "metadata": {},
   "source": [
    "### 5.Write a program that prompts the user to enter a number n, and then prints all the odd numbers between 1 and n."
   ]
  },
  {
   "cell_type": "code",
   "execution_count": 129,
   "id": "18fca532-20b4-4234-84e1-bcd3ae36b6f8",
   "metadata": {},
   "outputs": [
    {
     "name": "stdin",
     "output_type": "stream",
     "text": [
      "Enter any number:  9\n"
     ]
    },
    {
     "name": "stdout",
     "output_type": "stream",
     "text": [
      "Odd Number 1\n",
      "Odd Number 3\n",
      "Odd Number 5\n",
      "Odd Number 7\n",
      "Odd Number 9\n"
     ]
    }
   ],
   "source": [
    "user_input = int(input(\"Enter any number: \"))\n",
    "for i in range(1,user_input+1):\n",
    "    if i % 2 != 0:\n",
    "        print(\"Odd Number\",i)"
   ]
  },
  {
   "cell_type": "markdown",
   "id": "8b31f6a7-a854-4483-87da-18e6974a3efc",
   "metadata": {},
   "source": [
    "### 6. Write a program that prints 'Happy Birthday!' five times on screen."
   ]
  },
  {
   "cell_type": "code",
   "execution_count": 120,
   "id": "2f41fb78-c984-4526-947a-458e992229a5",
   "metadata": {},
   "outputs": [
    {
     "name": "stdout",
     "output_type": "stream",
     "text": [
      "Happy Birthday!\n",
      "Happy Birthday!\n",
      "Happy Birthday!\n",
      "Happy Birthday!\n",
      "Happy Birthday!\n"
     ]
    }
   ],
   "source": [
    "for i in range(5):\n",
    "    print(\"Happy Birthday!\")"
   ]
  },
  {
   "cell_type": "markdown",
   "id": "0c1eede9-adbc-4659-98fb-a9c0f8443849",
   "metadata": {},
   "source": [
    "### 7. Write a program that takes a number n as input from the user and generates the first n terms of the series formed by squaring the natural numbers."
   ]
  },
  {
   "cell_type": "code",
   "execution_count": 121,
   "id": "4cf3b481-a152-4843-9e37-ad9b3f6392d3",
   "metadata": {},
   "outputs": [
    {
     "name": "stdin",
     "output_type": "stream",
     "text": [
      "Enter any number:  6\n"
     ]
    },
    {
     "name": "stdout",
     "output_type": "stream",
     "text": [
      "Series\n",
      "1 4 9 16 25 36 "
     ]
    }
   ],
   "source": [
    "user_input = int(input(\"Enter any number: \"))\n",
    "print('Series')\n",
    "for n in range(1,user_input + 1):\n",
    "    print(n*n, end=' ')"
   ]
  },
  {
   "cell_type": "markdown",
   "id": "f26e4555-3ea2-4f77-adb0-543ca50f458a",
   "metadata": {},
   "source": [
    "### 8. Write a program that prompts the user to input a number and prints its multiplication table."
   ]
  },
  {
   "cell_type": "code",
   "execution_count": 122,
   "id": "d9d43207-be1d-41b7-acf2-9ef23e9b1c55",
   "metadata": {},
   "outputs": [
    {
     "name": "stdin",
     "output_type": "stream",
     "text": [
      "Enter any number:  7\n"
     ]
    },
    {
     "name": "stdout",
     "output_type": "stream",
     "text": [
      "7 * 1 =  7\n",
      "7 * 2 =  14\n",
      "7 * 3 =  21\n",
      "7 * 4 =  28\n",
      "7 * 5 =  35\n",
      "7 * 6 =  42\n",
      "7 * 7 =  49\n",
      "7 * 8 =  56\n",
      "7 * 9 =  63\n",
      "7 * 10 =  70\n"
     ]
    }
   ],
   "source": [
    "user_input = int(input(\"Enter any number: \"))\n",
    "for n in range(1, 11):\n",
    "    print(f'{user_input} * {n} = ', n * user_input )"
   ]
  },
  {
   "cell_type": "markdown",
   "id": "34ec7308-87b5-4c94-9813-14c047b12195",
   "metadata": {},
   "source": [
    "### 9. Write a Python program to print the first 8 terms of an arithmetic progression starting with 3 and having a common difference of 4."
   ]
  },
  {
   "cell_type": "code",
   "execution_count": 123,
   "id": "f1ea9706-c4ec-4d76-9244-6b04f926be8c",
   "metadata": {},
   "outputs": [
    {
     "name": "stdout",
     "output_type": "stream",
     "text": [
      "3 7 11 15 19 23 27 31 "
     ]
    }
   ],
   "source": [
    "count = 8\n",
    "n = 3;\n",
    "for i in range(count):\n",
    "    print(n, end=' ')\n",
    "    n+=4;"
   ]
  },
  {
   "cell_type": "markdown",
   "id": "548be2b5-c2a6-4def-b4c0-5537a620842e",
   "metadata": {},
   "source": [
    "### 10. Write a Python program to print the first 6 terms of a geometric sequence starting with 2 and having a common ratio of 3.\n",
    "### The program should output the following sequence:\n",
    "### 2 6 18 54 162 486"
   ]
  },
  {
   "cell_type": "code",
   "execution_count": 124,
   "id": "8f94e6a4-b6a1-4049-b278-4b272f7cfb8f",
   "metadata": {},
   "outputs": [
    {
     "name": "stdout",
     "output_type": "stream",
     "text": [
      "2 6 18 54 162 486 "
     ]
    }
   ],
   "source": [
    "count = 6\n",
    "prev_term = 2;\n",
    "for i in range(count):\n",
    "    print(prev_term, end=' ')\n",
    "    prev_term = prev_term * 3"
   ]
  },
  {
   "cell_type": "markdown",
   "id": "6947475f-f438-4e3b-9277-291179c161d5",
   "metadata": {},
   "source": [
    "### 11. Write a program that asks the user for a positive integer value. The program should calculate the sum of all the integers from 1 up to the number entered. For example, if the user enters 20, the loop will find the sum of 1, 2, 3, 4, ... 20."
   ]
  },
  {
   "cell_type": "code",
   "execution_count": 125,
   "id": "e57ee5f0-aa90-424e-8def-3e06a43bd5d7",
   "metadata": {},
   "outputs": [
    {
     "name": "stdin",
     "output_type": "stream",
     "text": [
      "Enter any positive number 10\n"
     ]
    },
    {
     "name": "stdout",
     "output_type": "stream",
     "text": [
      "Sum of 10 numbers is: 55\n"
     ]
    }
   ],
   "source": [
    "count = int(input(\"Enter any positive number\"))\n",
    "numbers_sum = 0;\n",
    "for i in range(1,count + 1):\n",
    "    numbers_sum = numbers_sum + i\n",
    "print(f\"Sum of {count} numbers is:\",numbers_sum)"
   ]
  },
  {
   "cell_type": "markdown",
   "id": "bef3a63d-534d-487a-bfe4-769b9383f53f",
   "metadata": {},
   "source": [
    "### 12. write a program that takes a positive integer N as input and calculates the sum of the reciprocals of all numbers from 1 up to N. The program should display the final sum."
   ]
  },
  {
   "cell_type": "code",
   "execution_count": 126,
   "id": "7e31a1ff-c0b2-4a67-a81e-a412243796ef",
   "metadata": {},
   "outputs": [
    {
     "name": "stdin",
     "output_type": "stream",
     "text": [
      "Enter any positive number 5\n"
     ]
    },
    {
     "name": "stdout",
     "output_type": "stream",
     "text": [
      "Reciprocal sum of 5 numbers is: 2.28\n"
     ]
    }
   ],
   "source": [
    "count = int(input(\"Enter any positive number\"))\n",
    "reciprocal_sum = 0;\n",
    "for i in range(1,count + 1):\n",
    "    reciprocal_sum += 1/i\n",
    "print(f\"Reciprocal sum of {count} numbers is: {reciprocal_sum:.2f}\")"
   ]
  },
  {
   "cell_type": "markdown",
   "id": "25b9c336-2b4a-4919-b84f-cf1c0b9e8538",
   "metadata": {},
   "source": [
    "### 13. Write a program that prompts the user to enter a number and repeats this process 5 times. The program should accumulate the numbers entered and then display the final running total."
   ]
  },
  {
   "cell_type": "code",
   "execution_count": 127,
   "id": "b1a740e4-c8ec-4c2a-b9bd-ac29d710176b",
   "metadata": {},
   "outputs": [
    {
     "name": "stdin",
     "output_type": "stream",
     "text": [
      "Enter any number: 10\n",
      "Enter any number: 15\n",
      "Enter any number: 35\n",
      "Enter any number: 40\n",
      "Enter any number: 55\n"
     ]
    },
    {
     "name": "stdout",
     "output_type": "stream",
     "text": [
      "The final running total is 155\n"
     ]
    }
   ],
   "source": [
    "total = 0\n",
    "i = 0;\n",
    "while(i < 5):\n",
    "    num = int(input('Enter any number:'))\n",
    "    total += num\n",
    "    i+=1\n",
    "print(\"The final running total is\",total)"
   ]
  },
  {
   "cell_type": "markdown",
   "id": "4328432f-db12-404c-9b65-f0ab89b8a07c",
   "metadata": {},
   "source": [
    "### 14. Write a program that prompts the user to enter a positive integer and calculates its factorial. The factorial of a positive integer 'n' is denoted as 'n!' and is calculated by multiplying all the integers from 1 to 'n' together. For example, the factorial of 5(denoted as 5!) is calculated as 1 x 2 x 3 x 4 x 5."
   ]
  },
  {
   "cell_type": "code",
   "execution_count": 128,
   "id": "4a607a94-621d-4d6c-8752-f83cd5caf6cc",
   "metadata": {},
   "outputs": [
    {
     "name": "stdin",
     "output_type": "stream",
     "text": [
      "Enter any positive number 5\n"
     ]
    },
    {
     "name": "stdout",
     "output_type": "stream",
     "text": [
      "Factorial of 5 is 120\n"
     ]
    }
   ],
   "source": [
    "num = int(input(\"Enter any positive number\"))\n",
    "total = 1\n",
    "i = 1;\n",
    "if(num < 0):\n",
    "    print('Factorial does not exist for negative numbers');\n",
    "elif(num == 0):\n",
    "    print('Factorial of 0 is 1')\n",
    "else:\n",
    "    while(i <= num):\n",
    "        total = total * i\n",
    "        i+=1\n",
    "    print(f\"Factorial of {num} is\",total)"
   ]
  },
  {
   "cell_type": "markdown",
   "id": "66ed3d89-0cdc-478e-9d67-6426d2bd4ad2",
   "metadata": {},
   "source": [
    "### 15. Write a Python program that prompts the user to enter a base number and an exponent, and then calculates the power of the base to the exponent. The program should not use the exponentiation operator (**) or the math.pow() function. The program should handle both positive and negative exponents."
   ]
  },
  {
   "cell_type": "code",
   "execution_count": 22,
   "id": "c3ef24a9-c53f-48ad-937f-d3fd3589337c",
   "metadata": {},
   "outputs": [
    {
     "name": "stdin",
     "output_type": "stream",
     "text": [
      "Enter any base number 5\n",
      "Enter any exponent number -3\n"
     ]
    },
    {
     "name": "stdout",
     "output_type": "stream",
     "text": [
      "Power of 5 ^ -3 is 0.008\n"
     ]
    }
   ],
   "source": [
    "base = int(input(\"Enter any base number\"))\n",
    "exponent = int(input(\"Enter any exponent number\"))\n",
    "power = 1;\n",
    "i = 0;\n",
    "if(exponent > 0):\n",
    "    while(i < exponent):\n",
    "        power = power * base\n",
    "        i+=1\n",
    "elif(exponent < 0):\n",
    "    while(i < abs(exponent)):\n",
    "        power = power * base\n",
    "        i+=1\n",
    "    power = 1/power\n",
    "else:\n",
    "    power = 1\n",
    "print(f\"Power of {base} ^ {exponent} is\",power)"
   ]
  },
  {
   "cell_type": "code",
   "execution_count": null,
   "id": "d42cd69e-5b5f-4613-acee-b28ae94b89ad",
   "metadata": {},
   "outputs": [],
   "source": []
  }
 ],
 "metadata": {
  "kernelspec": {
   "display_name": "Python [conda env:base] *",
   "language": "python",
   "name": "conda-base-py"
  },
  "language_info": {
   "codemirror_mode": {
    "name": "ipython",
    "version": 3
   },
   "file_extension": ".py",
   "mimetype": "text/x-python",
   "name": "python",
   "nbconvert_exporter": "python",
   "pygments_lexer": "ipython3",
   "version": "3.13.5"
  }
 },
 "nbformat": 4,
 "nbformat_minor": 5
}
