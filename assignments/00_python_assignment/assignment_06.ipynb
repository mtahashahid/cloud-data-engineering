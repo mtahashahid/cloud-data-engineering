{
 "cells": [
  {
   "cell_type": "markdown",
   "id": "0bf3e91e-ada2-47c8-b03f-cbd3b8a6019c",
   "metadata": {},
   "source": [
    "### 1. Write a Python program to create a class representing a Circle. Include methods to calculate its area and perimeter."
   ]
  },
  {
   "cell_type": "code",
   "execution_count": 52,
   "id": "586b2396-c928-4e62-8283-3734ae75ca5f",
   "metadata": {},
   "outputs": [],
   "source": [
    "import math\n",
    "\n",
    "class circle():\n",
    "    def __init__(self,radius):\n",
    "        self.radius = radius\n",
    "    def area_of_circle(self):\n",
    "        return math.pi * math.sqrt(self.radius)\n",
    "    def perimeter(self):\n",
    "        return 2 * math.pi * self.radius"
   ]
  },
  {
   "cell_type": "code",
   "execution_count": 53,
   "id": "fecb9b7c-cdf3-4ebc-9b50-0acb92215622",
   "metadata": {},
   "outputs": [
    {
     "name": "stdout",
     "output_type": "stream",
     "text": [
      "Area: 9.934588265796101\n",
      "Perimeter: 62.83185307179586\n"
     ]
    }
   ],
   "source": [
    "c1 = circle(10)\n",
    "print(\"Area:\", c1.area_of_circle())\n",
    "print(\"Perimeter:\",c1.perimeter())"
   ]
  },
  {
   "cell_type": "markdown",
   "id": "731a24f2-1569-4c24-ad21-050b1fd91a11",
   "metadata": {},
   "source": [
    "### 2. Write a Python program to create a person class. Include attributes like name, country and date of birth. Implement a method to determine the person's age.\n"
   ]
  },
  {
   "cell_type": "code",
   "execution_count": 37,
   "id": "285dc2cc-f39e-471a-9f2e-968e943c3a3a",
   "metadata": {},
   "outputs": [
    {
     "name": "stdout",
     "output_type": "stream",
     "text": [
      "Your current age is: 27\n"
     ]
    }
   ],
   "source": [
    "import datetime\n",
    "\n",
    "class person():\n",
    "    def __init__(self,name,country,dob):\n",
    "        self.name = name\n",
    "        self.country = country\n",
    "        self.dob = dob\n",
    "    def age(self):\n",
    "        date1 = datetime.datetime.strptime(self.dob, \"%Y-%m-%d\").strftime('%Y')\n",
    "        date2 = datetime.datetime.now().strftime('%Y')\n",
    "        current_age = int(date2) - int(date1)\n",
    "        print(\"Your current age is:\",current_age)\n",
    "p1 = person('Taha','Pakistan','1998-02-01')\n",
    "p1.age()"
   ]
  },
  {
   "cell_type": "code",
   "execution_count": 31,
   "id": "76651046-0c0f-472b-99d9-da398a9b6ece",
   "metadata": {},
   "outputs": [],
   "source": [
    "p1 = person('Taha','Pakistan','1998-02-01')"
   ]
  },
  {
   "cell_type": "code",
   "execution_count": 32,
   "id": "2e5dbbd7-1041-4f32-902a-3a0e629286af",
   "metadata": {},
   "outputs": [
    {
     "ename": "TypeError",
     "evalue": "unsupported operand type(s) for -: 'str' and 'str'",
     "output_type": "error",
     "traceback": [
      "\u001b[0;31m---------------------------------------------------------------------------\u001b[0m",
      "\u001b[0;31mTypeError\u001b[0m                                 Traceback (most recent call last)",
      "Cell \u001b[0;32mIn[32], line 1\u001b[0m\n\u001b[0;32m----> 1\u001b[0m p1\u001b[38;5;241m.\u001b[39mage()\n",
      "Cell \u001b[0;32mIn[30], line 11\u001b[0m, in \u001b[0;36mperson.age\u001b[0;34m(self)\u001b[0m\n\u001b[1;32m      9\u001b[0m date1 \u001b[38;5;241m=\u001b[39m datetime\u001b[38;5;241m.\u001b[39mdatetime\u001b[38;5;241m.\u001b[39mstrptime(\u001b[38;5;28mself\u001b[39m\u001b[38;5;241m.\u001b[39mdob, \u001b[38;5;124m\"\u001b[39m\u001b[38;5;124m%\u001b[39m\u001b[38;5;124mY-\u001b[39m\u001b[38;5;124m%\u001b[39m\u001b[38;5;124mm-\u001b[39m\u001b[38;5;132;01m%d\u001b[39;00m\u001b[38;5;124m\"\u001b[39m)\n\u001b[1;32m     10\u001b[0m date2 \u001b[38;5;241m=\u001b[39m datetime\u001b[38;5;241m.\u001b[39mdatetime\u001b[38;5;241m.\u001b[39mnow()\n\u001b[0;32m---> 11\u001b[0m \u001b[38;5;28;01mreturn\u001b[39;00m date2\u001b[38;5;241m.\u001b[39mstrftime(\u001b[38;5;124m'\u001b[39m\u001b[38;5;124m%\u001b[39m\u001b[38;5;124mY\u001b[39m\u001b[38;5;124m'\u001b[39m) \u001b[38;5;241m-\u001b[39m date1\u001b[38;5;241m.\u001b[39mstrftime(\u001b[38;5;124m'\u001b[39m\u001b[38;5;124m%\u001b[39m\u001b[38;5;124mY\u001b[39m\u001b[38;5;124m'\u001b[39m)\n",
      "\u001b[0;31mTypeError\u001b[0m: unsupported operand type(s) for -: 'str' and 'str'"
     ]
    }
   ],
   "source": [
    "p1.age()"
   ]
  },
  {
   "cell_type": "markdown",
   "id": "8d7d5e36-b959-40cb-bc25-284408d6da7e",
   "metadata": {},
   "source": [
    "### 3. Write a Python program to create a calculator class. Include methods for basic arithmetic operations."
   ]
  }
 ],
 "metadata": {
  "kernelspec": {
   "display_name": "Python [conda env:base] *",
   "language": "python",
   "name": "conda-base-py"
  },
  "language_info": {
   "codemirror_mode": {
    "name": "ipython",
    "version": 3
   },
   "file_extension": ".py",
   "mimetype": "text/x-python",
   "name": "python",
   "nbconvert_exporter": "python",
   "pygments_lexer": "ipython3",
   "version": "3.13.5"
  }
 },
 "nbformat": 4,
 "nbformat_minor": 5
}
