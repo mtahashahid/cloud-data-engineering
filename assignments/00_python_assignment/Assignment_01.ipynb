{
 "cells": [
  {
   "cell_type": "markdown",
   "metadata": {},
   "source": [
    "# Part -1 Python Basics (Variables)"
   ]
  },
  {
   "cell_type": "markdown",
   "metadata": {},
   "source": [
    "1. Print Your Name with your Father name and Date of birth using suitable escape sequence charactor"
   ]
  },
  {
   "cell_type": "code",
   "execution_count": 1,
   "metadata": {},
   "outputs": [
    {
     "name": "stdout",
     "output_type": "stream",
     "text": [
      "Name: Taha\n",
      "Father Name: Shahid\n",
      "Date of Birth: 01-02-2025\n"
     ]
    }
   ],
   "source": [
    "name=\"Taha\"\n",
    "father_name=\"Shahid\"\n",
    "date_of_birth='01-02-2025'\n",
    "print(f\"Name: {name}\\nFather Name: {father_name}\\nDate of Birth: {date_of_birth}\")"
   ]
  },
  {
   "cell_type": "markdown",
   "metadata": {},
   "source": [
    "2. Write your small bio using variables and print it using print function"
   ]
  },
  {
   "cell_type": "code",
   "execution_count": 2,
   "metadata": {},
   "outputs": [
    {
     "name": "stdout",
     "output_type": "stream",
     "text": [
      "Bio Date\n",
      "Name: Taha\n",
      "Father Name: Shahid\n",
      "Date of Birth: 01-02-2025\n",
      "Profession: Software Engineering\n",
      "Education:Bachelor in Computer Science\n"
     ]
    }
   ],
   "source": [
    "name=\"Taha\"\n",
    "father_name=\"Shahid\"\n",
    "date_of_birth='01-02-2025'\n",
    "profession=\"Software Engineering\"\n",
    "education=\"Bachelor in Computer Science\"\n",
    "print(f\"Bio Date\\nName: {name}\\nFather Name: {father_name}\\nDate of Birth: {date_of_birth}\\nProfession: {profession}\\nEducation:{education}\")"
   ]
  },
  {
   "cell_type": "markdown",
   "metadata": {},
   "source": [
    "3. Write a program in which use all the operators we can use in Python"
   ]
  },
  {
   "cell_type": "code",
   "execution_count": 3,
   "metadata": {},
   "outputs": [
    {
     "name": "stdout",
     "output_type": "stream",
     "text": [
      "Comparison Operator\n",
      "===================\n",
      "Greater Than: True\n",
      "Less Than: False\n",
      "Equals: False\n",
      "NOT Equal Than: True\n",
      "Equal and Greater: True\n",
      "Less than and Equal: False\n",
      "===================\n",
      "Arithmetic Operator\n",
      "===================\n",
      "Division: 2.0\n",
      "Modulus - returns the remainder: 0\n",
      "Addition: 15\n",
      "Subtraction: 5\n",
      "Multiplication: 50\n",
      "Square/Exponentiation: 100000\n",
      "Floor: 2\n",
      "===================\n",
      "Assignment Operator\n",
      "===================\n"
     ]
    }
   ],
   "source": [
    "a = 10\n",
    "b = 5\n",
    "print('Comparison Operator')\n",
    "print('===================')\n",
    "print(\"Greater Than:\", a > b)\n",
    "print(\"Less Than:\", a < b)\n",
    "print(\"Equals:\", a == b)\n",
    "print(\"NOT Equal Than:\", a != b)\n",
    "print(\"Equal and Greater:\", a >= b)\n",
    "print(\"Less than and Equal:\", a <= b)\n",
    "print('===================')\n",
    "print('Arithmetic Operator')\n",
    "print('===================')\n",
    "print(\"Division:\", a / b)\n",
    "print(\"Modulus - returns the remainder:\", a % b)\n",
    "print(\"Addition:\", a + b)\n",
    "print(\"Subtraction:\", a - b)\n",
    "print(\"Multiplication:\", a * b)\n",
    "print(\"Square/Exponentiation:\", a ** b)\n",
    "print(\"Floor:\", a // b)\n",
    "print('===================')\n",
    "print('Assignment Operator')\n",
    "print('===================')\n"
   ]
  },
  {
   "cell_type": "markdown",
   "metadata": {},
   "source": [
    "4. Completes the following steps of small task:\n",
    "    - Mention Marks of English , Islamiat and Maths out of 100 in 3 different variables\n",
    "    - Mention Variable of Total Marks and assign 300 to it\n",
    "    - Calculate Percentage"
   ]
  },
  {
   "cell_type": "code",
   "execution_count": 4,
   "metadata": {},
   "outputs": [
    {
     "name": "stdout",
     "output_type": "stream",
     "text": [
      "Percentage: 88.33\n"
     ]
    }
   ],
   "source": [
    "english = 90\n",
    "islamiat = 80\n",
    "maths = 95\n",
    "total_marks=300\n",
    "obtained_marks = english+islamiat+maths\n",
    "percentage = (obtained_marks/total_marks) * 100\n",
    "print(f'Percentage: {percentage:.2f}')"
   ]
  }
 ],
 "metadata": {
  "kernelspec": {
   "display_name": "Python [conda env:base] *",
   "language": "python",
   "name": "conda-base-py"
  },
  "language_info": {
   "codemirror_mode": {
    "name": "ipython",
    "version": 3
   },
   "file_extension": ".py",
   "mimetype": "text/x-python",
   "name": "python",
   "nbconvert_exporter": "python",
   "pygments_lexer": "ipython3",
   "version": "3.13.5"
  }
 },
 "nbformat": 4,
 "nbformat_minor": 4
}
