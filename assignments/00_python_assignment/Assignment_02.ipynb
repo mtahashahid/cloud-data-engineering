{
 "cells": [
  {
   "cell_type": "markdown",
   "metadata": {},
   "source": [
    "# Python Basics (Conditional Statements)"
   ]
  },
  {
   "cell_type": "markdown",
   "metadata": {},
   "source": [
    "1) A company decided to give bonus of 5% to employee if his/her year of service is more than 5 years.\n",
    "Ask user for their salary and year of service and print the net bonus amount."
   ]
  },
  {
   "cell_type": "code",
   "execution_count": 4,
   "metadata": {},
   "outputs": [
    {
     "name": "stdin",
     "output_type": "stream",
     "text": [
      "Enter you salary:  70000\n",
      "Please Enter you years of service:  6\n"
     ]
    },
    {
     "name": "stdout",
     "output_type": "stream",
     "text": [
      "Bonus: 3500.00\n"
     ]
    }
   ],
   "source": [
    "salary = int(input(\"Enter you salary: \"))\n",
    "service_years = int(input(\"Please Enter you years of service: \"))\n",
    "if(service_years > 5):\n",
    "    bonus = salary * (5/100)\n",
    "    print(f'Bonus: {bonus:.2f}')\n",
    "else:\n",
    "    print(\"No Bonus\")"
   ]
  },
  {
   "cell_type": "markdown",
   "metadata": {},
   "source": [
    "\n",
    "2) Write a program to check whether a person is eligible for voting or not. (accept age from user) if age is greater than 17 eligible otherwise not eligible"
   ]
  },
  {
   "cell_type": "code",
   "execution_count": 6,
   "metadata": {},
   "outputs": [
    {
     "name": "stdin",
     "output_type": "stream",
     "text": [
      "Enter you age:  18\n"
     ]
    },
    {
     "name": "stdout",
     "output_type": "stream",
     "text": [
      "Eligible for voting\n"
     ]
    }
   ],
   "source": [
    "age = int(input(\"Enter you age: \"))\n",
    "if(age > 17):\n",
    "    print('Eligible for voting')\n",
    "else:\n",
    "    print(\"Not Eligible for voting\")"
   ]
  },
  {
   "cell_type": "markdown",
   "metadata": {},
   "source": [
    "\n",
    "3) Write a program to check whether a number entered by user is even or odd."
   ]
  },
  {
   "cell_type": "code",
   "execution_count": 7,
   "metadata": {},
   "outputs": [
    {
     "name": "stdin",
     "output_type": "stream",
     "text": [
      "Enter any number:  4\n"
     ]
    },
    {
     "name": "stdout",
     "output_type": "stream",
     "text": [
      "Even\n"
     ]
    }
   ],
   "source": [
    "number = int(input(\"Enter any number: \"))\n",
    "if((number % 2) == 0):\n",
    "    print('Even')\n",
    "else:\n",
    "    print(\"Odd\")"
   ]
  },
  {
   "cell_type": "markdown",
   "metadata": {},
   "source": [
    "4) Write a program to check whether a number is divisible by 7 or not.\n",
    "Show Answer"
   ]
  },
  {
   "cell_type": "code",
   "execution_count": 9,
   "metadata": {},
   "outputs": [
    {
     "name": "stdin",
     "output_type": "stream",
     "text": [
      "Enter any number 30\n"
     ]
    },
    {
     "name": "stdout",
     "output_type": "stream",
     "text": [
      "30 is not divisible by 7\n"
     ]
    }
   ],
   "source": [
    "number = int(input('Enter any number'))\n",
    "if((number % 7) == 0):\n",
    "    print(f'{number} is divisible by 7')\n",
    "else:\n",
    "    print(f'{number} is not divisible by 7')"
   ]
  },
  {
   "cell_type": "markdown",
   "metadata": {},
   "source": [
    "5) Write a program to display \n",
    "\"Hello\" if a number entered by user is a multiple of five , otherwise print \"Bye\"."
   ]
  },
  {
   "cell_type": "code",
   "execution_count": 21,
   "metadata": {},
   "outputs": [
    {
     "name": "stdin",
     "output_type": "stream",
     "text": [
      "Enter any multiple of five: 10\n"
     ]
    },
    {
     "name": "stdout",
     "output_type": "stream",
     "text": [
      "10 is a multple of five\n"
     ]
    }
   ],
   "source": [
    "number = int(input(\"Enter any multiple of five:\"))\n",
    "print(f\"{number} is a multple of five\" if number % 5 == 0 else f'{number} is not multiple of five')"
   ]
  },
  {
   "cell_type": "markdown",
   "metadata": {},
   "source": [
    "7) Write a program to display the last digit of a number.\n"
   ]
  },
  {
   "cell_type": "code",
   "execution_count": 26,
   "metadata": {},
   "outputs": [
    {
     "name": "stdin",
     "output_type": "stream",
     "text": [
      "Enter any number I will give you its last digit:  78\n"
     ]
    },
    {
     "name": "stdout",
     "output_type": "stream",
     "text": [
      "Last digit of given number is: 8\n"
     ]
    }
   ],
   "source": [
    "number = int(input(\"Enter any number I will give you its last digit: \"))\n",
    "numberStr = str(number)\n",
    "print(f\"Last digit of given number is: {numberStr[-1]}\")"
   ]
  },
  {
   "cell_type": "markdown",
   "metadata": {},
   "source": [
    "9) Take values of length and breadth of a rectangle from user and print if it is square or rectangle."
   ]
  },
  {
   "cell_type": "code",
   "execution_count": 29,
   "metadata": {},
   "outputs": [
    {
     "name": "stdin",
     "output_type": "stream",
     "text": [
      "Enter length 10\n",
      "Enter breadth 5\n"
     ]
    },
    {
     "name": "stdout",
     "output_type": "stream",
     "text": [
      "It's a rectangle\n"
     ]
    }
   ],
   "source": [
    "length = int(input(\"Enter length\"))\n",
    "breadth = int(input(\"Enter breadth\"))\n",
    "if(length == breadth):\n",
    "    print(\"It's a square\")\n",
    "else:\n",
    "    print(\"It's a rectangle\")"
   ]
  },
  {
   "cell_type": "markdown",
   "metadata": {},
   "source": [
    "10) Take two int values from user and print greatest among them."
   ]
  },
  {
   "cell_type": "code",
   "execution_count": 36,
   "metadata": {},
   "outputs": [
    {
     "name": "stdin",
     "output_type": "stream",
     "text": [
      "Enter firsrt number 10\n",
      "Enter second number 30\n"
     ]
    },
    {
     "name": "stdout",
     "output_type": "stream",
     "text": [
      "30\n"
     ]
    }
   ],
   "source": [
    "number_1 = int(input(\"Enter firsrt number\"))\n",
    "number_2 = int(input(\"Enter second number\"))\n",
    "# print(f'{number_1} is greater than {number_2}' if number_1 > number_2 else f'{number_2} is greater than {number_1}')\n",
    "print(f'{number_1}' if number_1 > number_2 else f'{number_2}')"
   ]
  },
  {
   "cell_type": "markdown",
   "metadata": {},
   "source": [
    "11) A shop will give discount of 10% if the cost of purchased quantity is more than 1000.\n",
    "Ask user for quantity\n",
    "Suppose, one unit will cost 100.\n",
    "Judge and print total cost for user."
   ]
  },
  {
   "cell_type": "code",
   "execution_count": 43,
   "metadata": {},
   "outputs": [
    {
     "name": "stdin",
     "output_type": "stream",
     "text": [
      "Enter quantity: 7\n"
     ]
    },
    {
     "name": "stdout",
     "output_type": "stream",
     "text": [
      "Total: 700\n"
     ]
    }
   ],
   "source": [
    "quantity = int(input(\"Enter quantity:\"))\n",
    "per_unit_cost = 100\n",
    "total = quantity * per_unit_cost\n",
    "if(total > 1000):\n",
    "    discount = total * (0.10) # 0.10 == 10%\n",
    "    print(\"Total: \",total - discount)\n",
    "else:\n",
    "    print(f'Total: {total}')"
   ]
  },
  {
   "cell_type": "markdown",
   "metadata": {},
   "source": [
    "12) A school has following rules for grading system:\n",
    "\n",
    "a. Below 25 - F\n",
    "\n",
    "b. 25 to 45 - E\n",
    "\n",
    "c. 45 to 50 - D\n",
    "\n",
    "d. 50 to 60 - C\n",
    "\n",
    "e. 60 to 80 - B\n",
    "\n",
    "f. Above 80 - A\n",
    "\n",
    "Ask user to enter marks and print the corresponding grade."
   ]
  },
  {
   "cell_type": "code",
   "execution_count": 47,
   "metadata": {},
   "outputs": [
    {
     "name": "stdin",
     "output_type": "stream",
     "text": [
      "Please enter your marks:  81\n"
     ]
    },
    {
     "name": "stdout",
     "output_type": "stream",
     "text": [
      "A Grade\n"
     ]
    }
   ],
   "source": [
    "marks = int(input('Please enter your marks: '))\n",
    "if(marks < 25):\n",
    "    print(\"F Grade\")\n",
    "elif(marks <= 45):\n",
    "    print(\"E Grade\")\n",
    "elif(marks <= 50):\n",
    "    print(\"D Grade\")\n",
    "elif(marks <= 60):\n",
    "    print(\"C Grade\")\n",
    "elif(marks <= 80):\n",
    "    print(\"B Grade\")\n",
    "elif(marks <= 100):\n",
    "    print(\"A Grade\")"
   ]
  },
  {
   "cell_type": "markdown",
   "metadata": {},
   "source": [
    "14)A student will not be allowed to sit in exam if his/her attendence is less than 75%.\n",
    "\n",
    "Take following input from user\n",
    "\n",
    "- Number of classes held\n",
    "\n",
    "- Number of classes attended.\n",
    "\n",
    "And print\n",
    "\n",
    "- percentage of class attended\n",
    "\n",
    "- Is student is allowed to sit in exam or not.\n"
   ]
  },
  {
   "cell_type": "code",
   "execution_count": 49,
   "metadata": {},
   "outputs": [
    {
     "name": "stdin",
     "output_type": "stream",
     "text": [
      "Enter the number of classes 10\n",
      "Enter the number of classes attedned 4\n"
     ]
    },
    {
     "name": "stdout",
     "output_type": "stream",
     "text": [
      "Not Allowed to sit in exam\n"
     ]
    }
   ],
   "source": [
    "total_classes = int(input(\"Enter the number of classes\"))\n",
    "classes_attended = int(input(\"Enter the number of classes attedned\"))\n",
    "attendance_percentage = (classes_attended / total_classes) * 100\n",
    "if(attendance_percentage >= 75 ):\n",
    "    print(\"Allowed to sit in exam\")\n",
    "else:\n",
    "    print(\"Not Allowed to sit in exam\")"
   ]
  },
  {
   "cell_type": "markdown",
   "metadata": {},
   "source": [
    "15) Modify the above question to allow student to sit if he/she has medical cause. Ask user if he/she has medical cause or not ( 'Y' or 'N' ) and print accordingly."
   ]
  },
  {
   "cell_type": "code",
   "execution_count": 64,
   "metadata": {},
   "outputs": [
    {
     "name": "stdin",
     "output_type": "stream",
     "text": [
      "Enter the number of classes 10\n",
      "Enter the number of classes attedned 4\n",
      "Your attandence is short. Do you have a medical issue (Y/N): y\n"
     ]
    },
    {
     "name": "stdout",
     "output_type": "stream",
     "text": [
      "Attendance is short but allowed to sit in exam due to medical issue.\n"
     ]
    }
   ],
   "source": [
    "total_classes = int(input(\"Enter the number of classes\"))\n",
    "classes_attended = int(input(\"Enter the number of classes attedned\"))\n",
    "\n",
    "attendance_percentage = (classes_attended / total_classes) * 100\n",
    "\n",
    "if(attendance_percentage >= 75 ):\n",
    "    print(\"Allowed to sit in exam\")\n",
    "elif(attendance_percentage < 75):\n",
    "    medical_issue = input(\"Your attandence is short. Do you have a medical issue (Y/N):\")\n",
    "    if(medical_issue == 'Y' or 'y'):\n",
    "        print(\"Attendance is short but allowed to sit in exam due to medical issue.\")\n",
    "    else:\n",
    "        print(\"Not Allowed to sit in exam\")\n"
   ]
  },
  {
   "cell_type": "markdown",
   "metadata": {},
   "source": [
    "16) Write a program to check if a year is leap year or not.\n",
    "\n",
    "If a year is divisible by 4 then it is leap year but if the year is century year like 2000, 1900, 2100 then it must be divisible by 400."
   ]
  },
  {
   "cell_type": "code",
   "execution_count": 96,
   "metadata": {},
   "outputs": [
    {
     "name": "stdin",
     "output_type": "stream",
     "text": [
      "Please enter the year:  2000\n"
     ]
    },
    {
     "name": "stdout",
     "output_type": "stream",
     "text": [
      "Leap Year\n"
     ]
    }
   ],
   "source": [
    "year = int(input('Please enter the year: '))\n",
    "if (year % 400 == 0):\n",
    "    print(\"Leap Year\")\n",
    "elif (year % 100 == 0):\n",
    "    print(\"Not a leap year\")\n",
    "elif (year % 4 == 0):\n",
    "    print('Leap year')\n",
    "else:\n",
    "    print('Not a leap year')\n",
    "\n",
    "# print(f'Leap year' if year % 4 == 0 else f'Not a leap year')"
   ]
  },
  {
   "cell_type": "markdown",
   "metadata": {},
   "source": [
    "17) Ask user to enter age, gender ( M or F ), marital status ( Y or N ) and then using following rules print their place of service.\n",
    "\n",
    "if employee is female, then she will work only in urban areas.\n",
    "\n",
    "if employee is a male and age is in between 20 to 40 then he may work in anywhere\n",
    "\n",
    "if employee is male and age is in between 40 t0 60 then he will work in urban areas only.\n",
    "\n",
    "And any other input of age should print \"ERROR\""
   ]
  },
  {
   "cell_type": "code",
   "execution_count": 79,
   "metadata": {},
   "outputs": [
    {
     "name": "stdin",
     "output_type": "stream",
     "text": [
      "Enter you age: 20\n",
      "Enter you gender (M/F): M\n",
      "Enter your marital status (Y/N): y\n"
     ]
    },
    {
     "name": "stdout",
     "output_type": "stream",
     "text": [
      "Work from anywhere\n"
     ]
    }
   ],
   "source": [
    "age = int(input(\"Enter you age:\"))\n",
    "gender = input(\"Enter you gender (M/F):\").upper()\n",
    "marital_status = input(\"Enter your marital status (Y/N):\").upper()\n",
    "if(gender == 'F'):\n",
    "    print('Work only in urban areas')\n",
    "elif(gender == 'M'):\n",
    "    if(20 <= age < 40):\n",
    "        print(\"Work from anywhere\")\n",
    "    elif(40 <= age <= 60):\n",
    "        print('Work only in urban areas')\n",
    "    else:\n",
    "        print('Error')"
   ]
  },
  {
   "cell_type": "markdown",
   "metadata": {},
   "source": [
    "18. Write a program to calculate the electricity bill (accept number of unit from user) according to the following criteria :\n",
    "     Unit                                                     Price  \n",
    "uptp 100 units                                             no charge\n",
    "Next 200 units                                              Rs 5 per unit\n",
    "After 200 units                                             Rs 10 per unit\n",
    "(For example if input unit is 350 than total bill amount is Rs.3500\n",
    "(For example if input unit is 97 than total bill amount is Rs.0\n",
    "(For example if input unit is 150 than total bill amount is Rs.750"
   ]
  },
  {
   "cell_type": "code",
   "execution_count": 69,
   "metadata": {},
   "outputs": [
    {
     "name": "stdin",
     "output_type": "stream",
     "text": [
      "Enter the no of units: 201\n"
     ]
    },
    {
     "name": "stdout",
     "output_type": "stream",
     "text": [
      "Billamount is: 2010\n"
     ]
    }
   ],
   "source": [
    "units = int(input(\"Enter the no of units:\"))\n",
    "bill_amount = 0\n",
    "if(units <= 100):\n",
    "    print('Bill amount is:',bill_amount)\n",
    "elif(units <= 200):\n",
    "    bill_amount = units * 5\n",
    "    print('Bill amount is:',bill_amount)\n",
    "elif(units > 200):\n",
    "    bill_amount = units * 10\n",
    "    print('Billamount is:', bill_amount)"
   ]
  },
  {
   "cell_type": "markdown",
   "metadata": {},
   "source": [
    "19. Take input of age of 3 people by user and determine oldest and youngest among them."
   ]
  },
  {
   "cell_type": "code",
   "execution_count": 2,
   "metadata": {},
   "outputs": [
    {
     "name": "stdin",
     "output_type": "stream",
     "text": [
      "Enter the age of first person: 5\n",
      "Enter the age of second person: 30\n",
      "Enter the age of third person: 1\n"
     ]
    },
    {
     "name": "stdout",
     "output_type": "stream",
     "text": [
      "Oldest 30\n",
      "youngest 5\n"
     ]
    }
   ],
   "source": [
    "age_1 = int(input(\"Enter the age of first person:\"))\n",
    "age_2 = int(input(\"Enter the age of second person:\"))\n",
    "age_3 = int(input(\"Enter the age of third person:\"))\n",
    "max_num = 0\n",
    "oldest = age_1\n",
    "youngest = age_1\n",
    "if(age_2 > oldest):\n",
    "    oldest = age_2\n",
    "elif(age_2 < youngest):\n",
    "    youngest = age_2\n",
    "elif (age_3 > oldest):\n",
    "    oldest = age_3\n",
    "elif(age_3 < youngest):\n",
    "    youngest = age_3\n",
    "print(\"Oldest\",oldest)\n",
    "print('youngest',youngest)"
   ]
  }
 ],
 "metadata": {
  "kernelspec": {
   "display_name": "Python [conda env:base] *",
   "language": "python",
   "name": "conda-base-py"
  },
  "language_info": {
   "codemirror_mode": {
    "name": "ipython",
    "version": 3
   },
   "file_extension": ".py",
   "mimetype": "text/x-python",
   "name": "python",
   "nbconvert_exporter": "python",
   "pygments_lexer": "ipython3",
   "version": "3.13.5"
  }
 },
 "nbformat": 4,
 "nbformat_minor": 4
}
