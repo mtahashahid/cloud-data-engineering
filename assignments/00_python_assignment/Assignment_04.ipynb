{
 "cells": [
  {
   "cell_type": "markdown",
   "id": "b3a2edab-d85c-4e8e-8ee9-59b0904163ee",
   "metadata": {},
   "source": [
    "### 1. Write a program that accepts a list from user and print the alternate element of list. "
   ]
  },
  {
   "cell_type": "code",
   "execution_count": 19,
   "id": "9275b456-7b38-4aeb-a274-534c4fbd301e",
   "metadata": {},
   "outputs": [
    {
     "name": "stdin",
     "output_type": "stream",
     "text": [
      "Enter any string ab\n",
      "Enter any string cd\n",
      "Enter any string ef\n",
      "Enter any string gh\n",
      "Enter any string ig\n",
      "Enter any string kl\n"
     ]
    },
    {
     "name": "stdout",
     "output_type": "stream",
     "text": [
      "List Elements: ab\n",
      "List Elements: ef\n",
      "List Elements: ig\n"
     ]
    }
   ],
   "source": [
    "my_list = []\n",
    "i = 0;\n",
    "while(i < 6):\n",
    "    user_input = input(\"Enter any string\")\n",
    "    my_list.append(user_input)\n",
    "    i+=1\n",
    "for j in range(0, len(my_list),2):\n",
    "    print(\"List Elements:\",my_list[j])"
   ]
  },
  {
   "cell_type": "markdown",
   "id": "43b04096-aed8-4308-b129-94d2466e5745",
   "metadata": {},
   "source": [
    "### 2. Write a program that accepts a list from user. Your program should reverse the content of list and display it. Do not use reverse() method. "
   ]
  },
  {
   "cell_type": "code",
   "execution_count": 21,
   "id": "1cb45e20-8618-4302-a245-2a38c114094e",
   "metadata": {},
   "outputs": [
    {
     "name": "stdin",
     "output_type": "stream",
     "text": [
      "Enter number of elements:  2\n",
      "Enter element 1:  asda\n",
      "Enter element 2:  adasd\n"
     ]
    },
    {
     "name": "stdout",
     "output_type": "stream",
     "text": [
      "Original List: ['asda', 'adasd']\n",
      "Reversed List: ['adasd', 'asda']\n"
     ]
    }
   ],
   "source": [
    "my_list = []\n",
    "n = int(input(\"Enter number of elements: \"))\n",
    "\n",
    "for i in range(n):\n",
    "    user_input = input(f\"Enter element {i+1}: \")\n",
    "    my_list.append(user_input)\n",
    "\n",
    "# reverse using slicing\n",
    "reversed_list = my_list[::-1]\n",
    "\n",
    "print(\"Original List:\", my_list)\n",
    "print(\"Reversed List:\", reversed_list)\n"
   ]
  },
  {
   "cell_type": "code",
   "execution_count": 29,
   "id": "9191556e-1710-480b-baaa-16329c959bfe",
   "metadata": {},
   "outputs": [
    {
     "name": "stdin",
     "output_type": "stream",
     "text": [
      "Enter the number of inputs 4\n",
      "Enter any string ab\n",
      "Enter any string cd\n",
      "Enter any string ef\n",
      "Enter any string gh\n"
     ]
    },
    {
     "name": "stdout",
     "output_type": "stream",
     "text": [
      "reversed_list: ['gh', 'ef', 'cd', 'ab']\n"
     ]
    }
   ],
   "source": [
    "new_list = []\n",
    "reversed_list = []\n",
    "n = int(input(\"Enter the number of inputs\"))\n",
    "i = 0;\n",
    "while(i < n):\n",
    "    user_input = input(\"Enter any string\")\n",
    "    new_list.append(user_input)\n",
    "    i+=1\n",
    "for j in range(len(new_list)-1,-1,-1):\n",
    "    reversed_list.append(new_list[j])\n",
    "print(\"reversed_list:\",reversed_list)"
   ]
  },
  {
   "cell_type": "markdown",
   "id": "2060e66c-b999-48d1-8707-ed4a70526630",
   "metadata": {},
   "source": [
    "### 3. Find and display the largest number of a list without using built-in function max(). Your program should ask the user to input values in list from keyboard."
   ]
  },
  {
   "cell_type": "code",
   "execution_count": 1,
   "id": "a64bc7c6-ca9d-48c1-ab96-2ce26eff11a4",
   "metadata": {},
   "outputs": [
    {
     "name": "stdout",
     "output_type": "stream",
     "text": [
      "Max num: 800\n",
      "Max num: 2\n"
     ]
    }
   ],
   "source": [
    "my_list = [700,20,30,50,5,2,800] \n",
    "max_num = my_list[0] \n",
    "min_num = my_list[0] \n",
    "for i in my_list:\n",
    "    if(i > max_num):\n",
    "        max_num = i;\n",
    "    if(i < min_num):\n",
    "        min_num = i\n",
    "print(\"Max num:\",max_num)\n",
    "print(\"Max num:\",min_num)"
   ]
  },
  {
   "cell_type": "markdown",
   "id": "1ef91be9-0439-4785-b7a5-88dfcc46e058",
   "metadata": {},
   "source": [
    "### 4. Write a program that rotates the element of a list so that the element at the first index moves to the second index, the element in the second index moves to the third index, etc., and the element in the last index moves to the first index."
   ]
  },
  {
   "cell_type": "code",
   "execution_count": 3,
   "id": "1c261af1-d5a9-4823-ba8d-9ef4b50f3a7b",
   "metadata": {},
   "outputs": [
    {
     "name": "stdout",
     "output_type": "stream",
     "text": [
      "List Before: ['a', 'b', 'c', 'd', 'e', 'f']\n",
      "my_list ['a', 'b', 'c', 'd', 'e']\n",
      "my_list ['f', 'a', 'b', 'c', 'd']\n",
      "my_list ['e', 'f', 'a', 'b', 'c']\n",
      "my_list ['d', 'e', 'f', 'a', 'b']\n",
      "my_list ['c', 'd', 'e', 'f', 'a']\n",
      "my_list ['b', 'c', 'd', 'e', 'f']\n",
      "List After: ['a', 'b', 'c', 'd', 'e', 'f']\n"
     ]
    }
   ],
   "source": [
    "my_list = ['a','b','c','d','e','f'] \n",
    "print('List Before:',my_list) \n",
    "for _ in range(len(my_list)):\n",
    "    poped_elem = my_list.pop()\n",
    "    print('my_list',my_list)\n",
    "    my_list.insert(0, poped_elem) \n",
    "print('List After:',my_list)"
   ]
  },
  {
   "cell_type": "markdown",
   "id": "a18a7be5-2cf8-4a12-8de8-28df752d1827",
   "metadata": {},
   "source": [
    "### 5. Write a program that input a string and ask user to delete a given word from a string."
   ]
  },
  {
   "cell_type": "code",
   "execution_count": 19,
   "id": "7aac990f-07fa-4a87-aa7c-6301df5eb2db",
   "metadata": {},
   "outputs": [
    {
     "name": "stdin",
     "output_type": "stream",
     "text": [
      "Enter a string:  Hello world\n",
      "Enter the word you want to delete:  world\n"
     ]
    },
    {
     "name": "stdout",
     "output_type": "stream",
     "text": [
      "String after deletion: hello\n"
     ]
    }
   ],
   "source": [
    "user_input = input(\"Enter a string: \").lower()\n",
    "words_list = user_input.split()\n",
    "\n",
    "word_to_delete = input(\"Enter the word you want to delete: \").lower()\n",
    "\n",
    "if word_to_delete in words_list:\n",
    "    words_list.remove(word_to_delete)\n",
    "else:\n",
    "    print(\"Word not found in string.\")\n",
    "\n",
    "new_string = \" \".join(words_list)\n",
    "\n",
    "print(\"String after deletion:\", new_string)\n"
   ]
  },
  {
   "cell_type": "markdown",
   "id": "274d554c-97d6-44e9-b30a-e12dd02fb58f",
   "metadata": {},
   "source": [
    "### 6. Write a program that reads a string from the user containing a date in the form mm/dd/yyyy. It should print the date in the form March 12, 2021."
   ]
  },
  {
   "cell_type": "code",
   "execution_count": 11,
   "id": "f85d0ca9-e0cd-4d36-89e4-99c1c7ccfb40",
   "metadata": {},
   "outputs": [
    {
     "name": "stdin",
     "output_type": "stream",
     "text": [
      "Enter any date in mm/dd/yyyy format 12/11/2021\n"
     ]
    },
    {
     "name": "stdout",
     "output_type": "stream",
     "text": [
      "Formatted Date: December 11, 2021\n"
     ]
    }
   ],
   "source": [
    "user_input = input('Enter any date in mm/dd/yyyy format')\n",
    "months = ['January','February','March','April','May','June','July','August','September','October','November','December']\n",
    "splitted_date = user_input.split(\"/\")\n",
    "month_index = int(splitted_date[0]) - 1  \n",
    "print(f'Formatted Date: {months[month_index]} {splitted_date[1]}, {splitted_date[2]}')"
   ]
  },
  {
   "cell_type": "markdown",
   "id": "b27517d1-af00-4bde-affa-ccee0d99405e",
   "metadata": {},
   "source": [
    "### 7. Write a program with a function that accepts a string from keyboard and create a new string after converting first character of each word capitalized. For instance, if the sentence is \"stop and smell the roses.\" the output should be \"Stop And Smell The Roses\""
   ]
  },
  {
   "cell_type": "code",
   "execution_count": 36,
   "id": "165d503e-7280-459b-9ce4-36c643f1aaed",
   "metadata": {},
   "outputs": [
    {
     "name": "stdin",
     "output_type": "stream",
     "text": [
      "Enter any string: stop and smell the roses\n"
     ]
    },
    {
     "name": "stdout",
     "output_type": "stream",
     "text": [
      "Capitalize Sentence:  Stop And Smell The Roses\n"
     ]
    }
   ],
   "source": [
    "user_input = input('Enter any string:')\n",
    "splitted_string = user_input.split(' ')\n",
    "capitalize_string = ''\n",
    "for word in splitted_string:\n",
    "    capitalize_string += f' {word.capitalize()}' \n",
    "print('Capitalize Sentence:',capitalize_string)"
   ]
  },
  {
   "cell_type": "markdown",
   "id": "c60d2b26-486c-4bd2-8d1d-d09a2dc7c19d",
   "metadata": {},
   "source": [
    "### 8. Find the sum of each row of matrix of size m x n. For example for the following matrix output will be like this\n",
    "2 11 7 12\n",
    "\n",
    "5 2 9 15\n",
    "\n",
    "8 3 10 42"
   ]
  },
  {
   "cell_type": "code",
   "execution_count": 50,
   "id": "ec416aba-35e5-4e6c-8e44-637b1726953f",
   "metadata": {},
   "outputs": [
    {
     "name": "stdout",
     "output_type": "stream",
     "text": [
      "Sum of row:  32\n",
      "Sum of row:  31\n",
      "Sum of row:  63\n"
     ]
    }
   ],
   "source": [
    "matrix = [\n",
    "    [2, 11, 7, 12],\n",
    "    [5, 2, 9, 15],\n",
    "    [8, 3, 10, 42]\n",
    "]\n",
    "for row in matrix:\n",
    "    total = 0\n",
    "    for num in row:\n",
    "        total += num\n",
    "    print(\"Sum of row: \",total)\n",
    "    row_sums.append(total)\n"
   ]
  },
  {
   "cell_type": "markdown",
   "id": "c36bda72-629c-4ceb-bd0c-08912d401912",
   "metadata": {},
   "source": [
    "### 9. Write a program to add two matrices of size n x m."
   ]
  },
  {
   "cell_type": "code",
   "execution_count": null,
   "id": "ce1a0f8a-89c2-4bba-bbd2-323db561db69",
   "metadata": {},
   "outputs": [],
   "source": []
  },
  {
   "cell_type": "markdown",
   "id": "ae213f63-2921-4f9f-81da-b259257b1abc",
   "metadata": {},
   "source": [
    "### 10. Write a program to multiply two matrices"
   ]
  },
  {
   "cell_type": "code",
   "execution_count": null,
   "id": "9bd86686-cb50-4098-a58b-edc117a5e3ad",
   "metadata": {},
   "outputs": [],
   "source": []
  }
 ],
 "metadata": {
  "kernelspec": {
   "display_name": "Python [conda env:base] *",
   "language": "python",
   "name": "conda-base-py"
  },
  "language_info": {
   "codemirror_mode": {
    "name": "ipython",
    "version": 3
   },
   "file_extension": ".py",
   "mimetype": "text/x-python",
   "name": "python",
   "nbconvert_exporter": "python",
   "pygments_lexer": "ipython3",
   "version": "3.13.5"
  }
 },
 "nbformat": 4,
 "nbformat_minor": 5
}
