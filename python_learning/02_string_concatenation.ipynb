{
  "nbformat": 4,
  "nbformat_minor": 0,
  "metadata": {
    "colab": {
      "provenance": []
    },
    "kernelspec": {
      "name": "python3",
      "display_name": "Python 3"
    },
    "language_info": {
      "name": "python"
    }
  },
  "cells": [
    {
      "cell_type": "markdown",
      "source": [
        "# Methods of String Concatenation"
      ],
      "metadata": {
        "id": "pJeaFeaharAO"
      }
    },
    {
      "cell_type": "markdown",
      "source": [
        "**Method #1 (Using plus sign)**"
      ],
      "metadata": {
        "id": "mMUtj7J8a28_"
      }
    },
    {
      "cell_type": "code",
      "execution_count": 1,
      "metadata": {
        "colab": {
          "base_uri": "https://localhost:8080/"
        },
        "id": "jz5mNexXXEhe",
        "outputId": "64589fe3-b020-42f7-f9c0-d3d50fbedb45"
      },
      "outputs": [
        {
          "output_type": "stream",
          "name": "stdout",
          "text": [
            "HelloWorld\n"
          ]
        }
      ],
      "source": [
        "greeting = \"Hello\"\n",
        "addressee = \"World\"\n",
        "print(greeting + addressee)"
      ]
    },
    {
      "cell_type": "markdown",
      "source": [
        "**Method #2 (formatted string literal)**"
      ],
      "metadata": {
        "id": "RxKtb7W4a8dI"
      }
    },
    {
      "cell_type": "code",
      "source": [
        "greeting = \"Hello\"\n",
        "addressee = \"World\"\n",
        "print(f\"{greeting} {addressee}\")"
      ],
      "metadata": {
        "colab": {
          "base_uri": "https://localhost:8080/"
        },
        "id": "Hf0OwijjbB0b",
        "outputId": "2028941a-8e2c-433a-f8f3-5635a9b5182f"
      },
      "execution_count": 5,
      "outputs": [
        {
          "output_type": "stream",
          "name": "stdout",
          "text": [
            "Hello World\n"
          ]
        }
      ]
    },
    {
      "cell_type": "markdown",
      "source": [
        "**Method #2 (Using .format())**"
      ],
      "metadata": {
        "id": "vFpsjBBxcRiZ"
      }
    },
    {
      "cell_type": "code",
      "source": [
        "a = \"Hello\"\n",
        "b = \"Mr.\"\n",
        "c = \"Taha\"\n",
        "result = \"{} {} {}\".format(a, b,c)\n",
        "print(result)"
      ],
      "metadata": {
        "colab": {
          "base_uri": "https://localhost:8080/"
        },
        "id": "PY-lHJ6wb6Xd",
        "outputId": "2f2b8e01-c4c3-4bf7-a5cf-acb206ee913f"
      },
      "execution_count": 12,
      "outputs": [
        {
          "output_type": "stream",
          "name": "stdout",
          "text": [
            "Hello Mr. Taha\n"
          ]
        }
      ]
    },
    {
      "cell_type": "markdown",
      "source": [
        "# Print with space"
      ],
      "metadata": {
        "id": "chGu5a9YZF8k"
      }
    },
    {
      "cell_type": "code",
      "source": [
        "greeting = \"Hello\"\n",
        "addressee = \"World\"\n",
        "print(greeting +\" \"+ addressee)"
      ],
      "metadata": {
        "colab": {
          "base_uri": "https://localhost:8080/"
        },
        "id": "o83xjY74ZKtZ",
        "outputId": "9d7b82f2-1e6e-41f5-f9aa-30c41bb39fd3"
      },
      "execution_count": 2,
      "outputs": [
        {
          "output_type": "stream",
          "name": "stdout",
          "text": [
            "Hello World\n"
          ]
        }
      ]
    },
    {
      "cell_type": "markdown",
      "source": [
        "# You can't use the plus sign to combine strings and numbers"
      ],
      "metadata": {
        "id": "_9PWiYL5ZoCg"
      }
    },
    {
      "cell_type": "code",
      "source": [
        "print(\"The sum of 2 plus 2 is \" + 4)"
      ],
      "metadata": {
        "colab": {
          "base_uri": "https://localhost:8080/",
          "height": 146
        },
        "id": "Ryn7uhQVZfmD",
        "outputId": "fcdaebf0-dd7b-4450-a0dd-d2774ed9fe4b"
      },
      "execution_count": 3,
      "outputs": [
        {
          "output_type": "error",
          "ename": "TypeError",
          "evalue": "can only concatenate str (not \"int\") to str",
          "traceback": [
            "\u001b[0;31m---------------------------------------------------------------------------\u001b[0m",
            "\u001b[0;31mTypeError\u001b[0m                                 Traceback (most recent call last)",
            "\u001b[0;32m/tmp/ipython-input-3-2838713072.py\u001b[0m in \u001b[0;36m<cell line: 0>\u001b[0;34m()\u001b[0m\n\u001b[0;32m----> 1\u001b[0;31m \u001b[0mprint\u001b[0m\u001b[0;34m(\u001b[0m\u001b[0;34m\"The sum of 2 plus 2 is \"\u001b[0m \u001b[0;34m+\u001b[0m \u001b[0;36m4\u001b[0m\u001b[0;34m)\u001b[0m\u001b[0;34m\u001b[0m\u001b[0;34m\u001b[0m\u001b[0m\n\u001b[0m",
            "\u001b[0;31mTypeError\u001b[0m: can only concatenate str (not \"int\") to str"
          ]
        }
      ]
    }
  ]
}