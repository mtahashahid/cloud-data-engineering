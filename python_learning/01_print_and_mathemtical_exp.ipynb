{
  "nbformat": 4,
  "nbformat_minor": 0,
  "metadata": {
    "colab": {
      "provenance": []
    },
    "kernelspec": {
      "name": "python3",
      "display_name": "Python 3"
    },
    "language_info": {
      "name": "python"
    }
  },
  "cells": [
    {
      "cell_type": "code",
      "execution_count": 1,
      "metadata": {
        "colab": {
          "base_uri": "https://localhost:8080/"
        },
        "id": "57Mt_QJBTsTd",
        "outputId": "0a00742e-e0f0-4841-cc28-974295ba5b4e"
      },
      "outputs": [
        {
          "output_type": "stream",
          "name": "stdout",
          "text": [
            "Hello\n"
          ]
        }
      ],
      "source": [
        "print(\"Hello\")"
      ]
    },
    {
      "cell_type": "code",
      "source": [
        "print(\"\"\"\n",
        "  Hello!\n",
        "  Python\n",
        "\"\"\")"
      ],
      "metadata": {
        "colab": {
          "base_uri": "https://localhost:8080/"
        },
        "id": "NthafnsIXK3W",
        "outputId": "3a5fc9a0-8fa0-4722-d3ea-04f5e916d565"
      },
      "execution_count": 2,
      "outputs": [
        {
          "output_type": "stream",
          "name": "stdout",
          "text": [
            "\n",
            "  Hello!\n",
            "  Python\n",
            "\n"
          ]
        }
      ]
    },
    {
      "cell_type": "code",
      "source": [
        "greeting_python = \"Hello Python\"\n",
        "print('Say,' + greeting_python)"
      ],
      "metadata": {
        "colab": {
          "base_uri": "https://localhost:8080/"
        },
        "id": "blDSR7CRXT-2",
        "outputId": "4d88f708-2f98-498d-f3c4-8726872822de"
      },
      "execution_count": 6,
      "outputs": [
        {
          "output_type": "stream",
          "name": "stdout",
          "text": [
            "Say,Hello Python\n"
          ]
        }
      ]
    },
    {
      "cell_type": "markdown",
      "source": [
        "Checking Type"
      ],
      "metadata": {
        "id": "AIml7ndPXsCK"
      }
    },
    {
      "cell_type": "code",
      "source": [
        "type(greeting_python)"
      ],
      "metadata": {
        "colab": {
          "base_uri": "https://localhost:8080/"
        },
        "id": "W1rx2nOBXdsm",
        "outputId": "d986bbe1-f77a-4f19-c2fa-e1ed86ad3786"
      },
      "execution_count": 7,
      "outputs": [
        {
          "output_type": "execute_result",
          "data": {
            "text/plain": [
              "str"
            ]
          },
          "metadata": {},
          "execution_count": 7
        }
      ]
    },
    {
      "cell_type": "markdown",
      "source": [
        "Math expressions: Familiar operators"
      ],
      "metadata": {
        "id": "jAeqyRddcjOs"
      }
    },
    {
      "cell_type": "code",
      "source": [
        "print(\"Addition:\", 3 + 4)\n",
        "print(\"Subtraction:\",5 - 2)\n",
        "print(\"Multiplication:\", 5 * 5 )\n",
        "print(\"Division\", 6 / 2)"
      ],
      "metadata": {
        "colab": {
          "base_uri": "https://localhost:8080/"
        },
        "id": "u9y6l3YdciXK",
        "outputId": "12c4bf47-69ad-40bd-9556-ff7c0bc6e448"
      },
      "execution_count": 13,
      "outputs": [
        {
          "output_type": "stream",
          "name": "stdout",
          "text": [
            "Addition: 7\n",
            "Subtraction: 3\n",
            "Multiplication: 25\n",
            "Division 3.0\n"
          ]
        }
      ]
    },
    {
      "cell_type": "markdown",
      "source": [
        "Math expressions: Unfamiliar operators"
      ],
      "metadata": {
        "id": "D4LgnFAQeHum"
      }
    },
    {
      "cell_type": "code",
      "source": [
        "num1 = 10\n",
        "num2 = 3\n",
        "print(\"Remainder\",num1 % num2)"
      ],
      "metadata": {
        "colab": {
          "base_uri": "https://localhost:8080/"
        },
        "id": "5IzdaESyeGwf",
        "outputId": "a390c4e2-b12d-49f5-9b6b-834c31d087af"
      },
      "execution_count": 22,
      "outputs": [
        {
          "output_type": "stream",
          "name": "stdout",
          "text": [
            "Remainder 1\n"
          ]
        }
      ]
    },
    {
      "cell_type": "markdown",
      "source": [
        "Math expressions: Eliminating\n",
        "ambiguity"
      ],
      "metadata": {
        "id": "4254hwlNfFmL"
      }
    },
    {
      "cell_type": "code",
      "source": [
        "total_cost = 1 + 3 * 4\n",
        "print(\"Total Cost\", total_cost)\n",
        "# Multiply then add\n",
        "total_cost = 1 + (3 * 4)\n",
        "print(\"Total Cost\", total_cost)\n",
        "# Add then multiply\n",
        "total_cost = (1 + 3) * 4\n",
        "print(\"Total Cost\", total_cost)"
      ],
      "metadata": {
        "colab": {
          "base_uri": "https://localhost:8080/"
        },
        "id": "Z8djdUbEfMq5",
        "outputId": "d3cbdc71-d2dc-49eb-b124-629804965921"
      },
      "execution_count": 28,
      "outputs": [
        {
          "output_type": "stream",
          "name": "stdout",
          "text": [
            "Total Cost 13\n",
            "Total Cost 13\n",
            "Total Cost 16\n"
          ]
        }
      ]
    }
  ]
}