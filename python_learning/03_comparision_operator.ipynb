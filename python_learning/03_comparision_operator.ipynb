{
  "nbformat": 4,
  "nbformat_minor": 0,
  "metadata": {
    "colab": {
      "provenance": []
    },
    "kernelspec": {
      "name": "python3",
      "display_name": "Python 3"
    },
    "language_info": {
      "name": "python"
    }
  },
  "cells": [
    {
      "cell_type": "markdown",
      "source": [
        "# Comparision Operators"
      ],
      "metadata": {
        "id": "lJ0midEZlQ3e"
      }
    },
    {
      "cell_type": "markdown",
      "source": [
        "### **Equality operator (Numbers)**"
      ],
      "metadata": {
        "id": "M-AU3puvmABy"
      }
    },
    {
      "cell_type": "code",
      "execution_count": null,
      "metadata": {
        "colab": {
          "base_uri": "https://localhost:8080/"
        },
        "id": "IXgvrlzflPuT",
        "outputId": "43664de6-f089-4bed-de7f-16b154d16bf7"
      },
      "outputs": [
        {
          "output_type": "stream",
          "name": "stdout",
          "text": [
            "Yeah, You won a prize\n"
          ]
        }
      ],
      "source": [
        "ticket_number = 1234\n",
        "if ticket_number == 1234:\n",
        " print(\"Yeah, You won a prize\")"
      ]
    },
    {
      "cell_type": "markdown",
      "source": [
        "### **Equality operator (Numbers)**\n",
        "When you're comparing strings, the equality operator is case-sensitive.\n",
        "\"Rose\" does not equal \"rose.\""
      ],
      "metadata": {
        "id": "BEdiQfzNnqDq"
      }
    },
    {
      "cell_type": "code",
      "source": [
        "flower = \"Rose\"\n",
        "if flower == 'Rose':\n",
        "  print(\"Yes, It's a rose\")"
      ],
      "metadata": {
        "colab": {
          "base_uri": "https://localhost:8080/"
        },
        "id": "ywJDKf9hnrWt",
        "outputId": "fa2170d5-0440-48ff-b7e4-766d9c7d0edb"
      },
      "execution_count": null,
      "outputs": [
        {
          "output_type": "stream",
          "name": "stdout",
          "text": [
            "Yes, It's a rose\n"
          ]
        }
      ]
    },
    {
      "cell_type": "markdown",
      "source": [
        "### **Not Equals Operator**"
      ],
      "metadata": {
        "id": "vXWOO4jImmkb"
      }
    },
    {
      "cell_type": "code",
      "source": [
        "ticket_number = 1234\n",
        "if ticket_number == 1234:\n",
        " print(\"Better luck next time\")"
      ],
      "metadata": {
        "colab": {
          "base_uri": "https://localhost:8080/"
        },
        "id": "44M0MtUPmxwB",
        "outputId": "4661ba13-c9d6-4815-e478-b10237864c44"
      },
      "execution_count": null,
      "outputs": [
        {
          "output_type": "stream",
          "name": "stdout",
          "text": [
            "Better luck next time\n"
          ]
        }
      ]
    },
    {
      "cell_type": "markdown",
      "source": [
        "### **> is greater than Operator**"
      ],
      "metadata": {
        "id": "F4GADaXkm7q_"
      }
    },
    {
      "cell_type": "code",
      "source": [
        "num = 11\n",
        "if num > 10:\n",
        "  print(\"Number is greater than 10\")"
      ],
      "metadata": {
        "colab": {
          "base_uri": "https://localhost:8080/"
        },
        "id": "ofqpBSw5ovrX",
        "outputId": "de8ff77d-8ff3-4405-9183-2f657e5f9c6a"
      },
      "execution_count": null,
      "outputs": [
        {
          "output_type": "stream",
          "name": "stdout",
          "text": [
            "Number is greater than 10\n"
          ]
        }
      ]
    },
    {
      "cell_type": "markdown",
      "source": [
        "### **< is less than**"
      ],
      "metadata": {
        "id": "bGk4LQo0pKKn"
      }
    },
    {
      "cell_type": "code",
      "source": [
        "num = 9\n",
        "if num < 10:\n",
        "  print(\"Number is less than 10\")"
      ],
      "metadata": {
        "colab": {
          "base_uri": "https://localhost:8080/"
        },
        "id": "AGYah7yRpLjo",
        "outputId": "5ea6a6f4-7ee3-42a9-a952-33523442eea8"
      },
      "execution_count": null,
      "outputs": [
        {
          "output_type": "stream",
          "name": "stdout",
          "text": [
            "Number is less than 10\n"
          ]
        }
      ]
    },
    {
      "cell_type": "markdown",
      "source": [
        "### **>= is greater than or equal to**"
      ],
      "metadata": {
        "id": "Xv1O_xOLpjwN"
      }
    },
    {
      "cell_type": "code",
      "source": [
        "num = 10\n",
        "if num >= 10:\n",
        "  print(\"Number is greater than or equal to 10\")"
      ],
      "metadata": {
        "colab": {
          "base_uri": "https://localhost:8080/"
        },
        "id": "_9Drg5depfSZ",
        "outputId": "709a26b3-d907-4b07-a9ce-f1309435e52a"
      },
      "execution_count": null,
      "outputs": [
        {
          "output_type": "stream",
          "name": "stdout",
          "text": [
            "Number is less than or equal to 10\n"
          ]
        }
      ]
    },
    {
      "cell_type": "markdown",
      "source": [
        "### **<= is less than or equal to**"
      ],
      "metadata": {
        "id": "kLvjYNgVqCG9"
      }
    },
    {
      "cell_type": "code",
      "source": [
        "num = 10\n",
        "if num <= 10:\n",
        "  print(\"Number is less than or equal to 10\")"
      ],
      "metadata": {
        "colab": {
          "base_uri": "https://localhost:8080/"
        },
        "id": "6DXDIrRAp7Ir",
        "outputId": "9a82de52-45a8-4719-c5e1-bd92eb2cb2e5"
      },
      "execution_count": null,
      "outputs": [
        {
          "output_type": "stream",
          "name": "stdout",
          "text": [
            "Number is less than or equal to 10\n"
          ]
        }
      ]
    }
  ]
}