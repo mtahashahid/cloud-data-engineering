{
  "nbformat": 4,
  "nbformat_minor": 0,
  "metadata": {
    "colab": {
      "provenance": []
    },
    "kernelspec": {
      "name": "python3",
      "display_name": "Python 3"
    },
    "language_info": {
      "name": "python"
    }
  },
  "cells": [
    {
      "cell_type": "markdown",
      "source": [
        "# Simple if conditions"
      ],
      "metadata": {
        "id": "o-Ip1NLxfKo0"
      }
    },
    {
      "cell_type": "code",
      "execution_count": null,
      "metadata": {
        "colab": {
          "base_uri": "https://localhost:8080/"
        },
        "id": "Q9Pyx3N1edMx",
        "outputId": "97c7ab67-2b36-477e-a534-7b78bc105c54"
      },
      "outputs": [
        {
          "output_type": "stream",
          "name": "stdout",
          "text": [
            "Yep, It's Cat !\n"
          ]
        }
      ],
      "source": [
        "species = \"cat\"\n",
        "if species == \"cat\":\n",
        "  print(\"Yep, It's Cat !\")"
      ]
    },
    {
      "cell_type": "code",
      "source": [
        "num = 5\n",
        "if num > 4:\n",
        "  print(\"Number is greater than 4\")"
      ],
      "metadata": {
        "colab": {
          "base_uri": "https://localhost:8080/"
        },
        "id": "r6k240kZfim7",
        "outputId": "9e24a972-39aa-4f39-e17f-90f6f02b2a37"
      },
      "execution_count": null,
      "outputs": [
        {
          "output_type": "stream",
          "name": "stdout",
          "text": [
            "Number is greater than 4\n"
          ]
        }
      ]
    },
    {
      "cell_type": "code",
      "source": [
        "if 2 + 2 == 4:\n",
        "  print(\"2 + 2 is equal to 4\")"
      ],
      "metadata": {
        "colab": {
          "base_uri": "https://localhost:8080/"
        },
        "id": "B7JpVgnBfwPY",
        "outputId": "e188a1ba-1e34-44d8-a210-dcb33f4f3121"
      },
      "execution_count": null,
      "outputs": [
        {
          "output_type": "stream",
          "name": "stdout",
          "text": [
            "2 + 2 is equal to 4\n"
          ]
        }
      ]
    },
    {
      "cell_type": "markdown",
      "source": [
        "# if else conditions"
      ],
      "metadata": {
        "id": "-a9upl_ugNnV"
      }
    },
    {
      "cell_type": "code",
      "source": [
        "car = \"BMWW\"\n",
        "if car == 'BMW':\n",
        "  print(\"Yes, It's BMW\")\n",
        "else:\n",
        "  print(\"It's not BMW\")\n"
      ],
      "metadata": {
        "colab": {
          "base_uri": "https://localhost:8080/"
        },
        "id": "2Rz2ulxVf_GS",
        "outputId": "9a3d525f-0719-4402-f071-bf9e9e36ba5f"
      },
      "execution_count": null,
      "outputs": [
        {
          "output_type": "stream",
          "name": "stdout",
          "text": [
            "It's not BMW\n"
          ]
        }
      ]
    },
    {
      "cell_type": "markdown",
      "source": [
        "# if else and elif(else if) Conditions"
      ],
      "metadata": {
        "id": "8-hiJ3sMhPDa"
      }
    },
    {
      "cell_type": "code",
      "source": [
        "score = 85\n",
        "\n",
        "if score >= 90:\n",
        "    print(\"Grade: A\")\n",
        "elif score >= 80:\n",
        "    print(\"Grade: B\")\n",
        "elif score >= 70:\n",
        "    print(\"Grade: C\")\n",
        "else:\n",
        "    print(\"Grade: F\")\n"
      ],
      "metadata": {
        "colab": {
          "base_uri": "https://localhost:8080/"
        },
        "id": "U0TUKg6wgmhK",
        "outputId": "55fe809c-0b92-40dd-bde5-5bfb91917815"
      },
      "execution_count": 37,
      "outputs": [
        {
          "output_type": "stream",
          "name": "stdout",
          "text": [
            "Grade: B\n"
          ]
        }
      ]
    },
    {
      "cell_type": "code",
      "source": [],
      "metadata": {
        "id": "uOspddE_jmLY"
      },
      "execution_count": null,
      "outputs": []
    }
  ]
}